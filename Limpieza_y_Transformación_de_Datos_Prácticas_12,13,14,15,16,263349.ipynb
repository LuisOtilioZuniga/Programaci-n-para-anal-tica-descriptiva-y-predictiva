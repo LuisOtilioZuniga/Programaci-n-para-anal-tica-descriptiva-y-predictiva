{
  "nbformat": 4,
  "nbformat_minor": 0,
  "metadata": {
    "colab": {
      "provenance": [],
      "authorship_tag": "ABX9TyNa0C4y2HUeusT3DLQ6av/m",
      "include_colab_link": true
    },
    "kernelspec": {
      "name": "python3",
      "display_name": "Python 3"
    },
    "language_info": {
      "name": "python"
    }
  },
  "cells": [
    {
      "cell_type": "markdown",
      "metadata": {
        "id": "view-in-github",
        "colab_type": "text"
      },
      "source": [
        "<a href=\"https://colab.research.google.com/github/LuisOtilioZuniga/Programaci-n-para-anal-tica-descriptiva-y-predictiva/blob/main/Limpieza_y_Transformaci%C3%B3n_de_Datos_Pr%C3%A1cticas_12%2C13%2C14%2C15%2C16%2C263349.ipynb\" target=\"_parent\"><img src=\"https://colab.research.google.com/assets/colab-badge.svg\" alt=\"Open In Colab\"/></a>"
      ]
    },
    {
      "cell_type": "code",
      "source": [
        "#Esta parte del código monta tu Google Drive en el entorno Colab\n",
        "#Al ejecutar drive.mount(), te pedirá que autorices a Google Colab para\n",
        "#Acceder a tu Google Drive\n",
        "from google.colab import drive\n",
        "\n",
        "# Importar librerías\n",
        "import pandas as pd\n",
        "import seaborn as sns\n",
        "import matplotlib.pyplot as plt\n",
        "\n",
        "#Después de la autorización, tu Google Drive estará Disponible en el Sistema\n",
        "#de archivos de Colab en la ruta /content/drive/\n",
        "#Si todo ha salido bien deberá aparecer un mensaje de\n",
        "#Mounted at /content/drive\n",
        "drive.mount('/content/drive')\n",
        "# Leer el archivo CSV\n",
        "df = pd.read_csv('/content/drive/MyDrive/Colab Notebooks/Programación para analítica descriptiva y predictiva/Unidad 2/miaad-nyc-r-s.csv')"
      ],
      "metadata": {
        "colab": {
          "base_uri": "https://localhost:8080/"
        },
        "id": "KQjVUPuRvBgd",
        "outputId": "68e9663f-5133-4cb8-cfe9-da27280631d9"
      },
      "execution_count": 5,
      "outputs": [
        {
          "output_type": "stream",
          "name": "stdout",
          "text": [
            "Drive already mounted at /content/drive; to attempt to forcibly remount, call drive.mount(\"/content/drive\", force_remount=True).\n"
          ]
        },
        {
          "output_type": "stream",
          "name": "stderr",
          "text": [
            "/tmp/ipython-input-1115818044.py:17: DtypeWarning: Columns (0) have mixed types. Specify dtype option on import or set low_memory=False.\n",
            "  df = pd.read_csv('/content/drive/MyDrive/Colab Notebooks/Programación para analítica descriptiva y predictiva/Unidad 2/miaad-nyc-r-s.csv')\n"
          ]
        }
      ]
    },
    {
      "cell_type": "code",
      "execution_count": 6,
      "metadata": {
        "colab": {
          "base_uri": "https://localhost:8080/"
        },
        "id": "0mgx6oA1un7O",
        "outputId": "061b6373-af74-41fa-a34b-7a4984508877"
      },
      "outputs": [
        {
          "output_type": "stream",
          "name": "stdout",
          "text": [
            "       Unnamed: 0  BOROUGH NEIGHBORHOOD  \\\n",
            "84545        8411        5      WOODROW   \n",
            "84546        8412        5      WOODROW   \n",
            "84547        8413        5      WOODROW   \n",
            "\n",
            "                           BUILDING CLASS CATEGORY TAX CLASS AT PRESENT  \\\n",
            "84545  02 TWO FAMILY DWELLINGS                                        1   \n",
            "84546  22 STORE BUILDINGS                                             4   \n",
            "84547  35 INDOOR PUBLIC AND CULTURAL FACILITIES                       4   \n",
            "\n",
            "       BLOCK  LOT EASE-MENT BUILDING CLASS AT PRESENT                ADDRESS  \\\n",
            "84545   7351   60                                  B2       49 PITNEY AVENUE   \n",
            "84546   7100   28                                  K6  2730 ARTHUR KILL ROAD   \n",
            "84547   7105  679                                  P9      155 CLAY PIT ROAD   \n",
            "\n",
            "       ... RESIDENTIAL UNITS  COMMERCIAL UNITS  TOTAL UNITS  LAND SQUARE FEET  \\\n",
            "84545  ...                 2                 0            2              4000   \n",
            "84546  ...                 0                 7            7            208033   \n",
            "84547  ...                 0                 1            1             10796   \n",
            "\n",
            "       GROSS SQUARE FEET YEAR BUILT TAX CLASS AT TIME OF SALE  \\\n",
            "84545               1496       1925                         1   \n",
            "84546              64117       2001                         4   \n",
            "84547               2400       2006                         4   \n",
            "\n",
            "       BUILDING CLASS AT TIME OF SALE  SALE PRICE            SALE DATE  \n",
            "84545                              B2      460000  2017-07-05 00:00:00  \n",
            "84546                              K6    11693337  2016-12-21 00:00:00  \n",
            "84547                              P9       69300  2016-10-27 00:00:00  \n",
            "\n",
            "[3 rows x 22 columns]\n",
            "Cantidad de filas y columnas: (84548, 22)\n"
          ]
        }
      ],
      "source": [
        "#PRÁCTICA 11\n",
        "# Leer el archivo CSV, omitiendo la última fila\n",
        "df = pd.read_csv(\n",
        "    '/content/drive/MyDrive/Colab Notebooks/Programación para analítica descriptiva y predictiva/Unidad 2/miaad-nyc-r-s.csv',\n",
        "    skipfooter=1,\n",
        "    engine='python'\n",
        ")\n",
        "\n",
        "# Mostrar las últimas 3 filas para comprobar que no se cargó la última línea\n",
        "print(df.tail(3))\n",
        "\n",
        "# Imprimir la cantidad de filas y columnas\n",
        "print(\"Cantidad de filas y columnas:\", df.shape)"
      ]
    },
    {
      "cell_type": "code",
      "source": [
        "#PRÁCTICA 12\n",
        "\n",
        "# Imprimir los nombres de las columnas\n",
        "print(\"Nombres originales de las columnas:\")\n",
        "print(df.columns)\n",
        "\n",
        "# Verificar si la primera columna se llama INDEX MIIAD\n",
        "if df.columns[0] != \"INDEX MIIAD\":\n",
        "    df.columns = [\"INDEX MIIAD\"] + list(df.columns[1:])\n",
        "\n",
        "# Imprimir nuevamente los nombres de las columnas\n",
        "print(\"\\nNombres de las columnas después de la verificación/cambio:\")\n",
        "print(df.columns)"
      ],
      "metadata": {
        "colab": {
          "base_uri": "https://localhost:8080/"
        },
        "id": "IpFUlxGqyaKm",
        "outputId": "5e23fa8e-497a-43ef-b4ca-fcf6b11d8e52"
      },
      "execution_count": 7,
      "outputs": [
        {
          "output_type": "stream",
          "name": "stdout",
          "text": [
            "Nombres originales de las columnas:\n",
            "Index(['Unnamed: 0', 'BOROUGH', 'NEIGHBORHOOD', 'BUILDING CLASS CATEGORY',\n",
            "       'TAX CLASS AT PRESENT', 'BLOCK', 'LOT', 'EASE-MENT',\n",
            "       'BUILDING CLASS AT PRESENT', 'ADDRESS', 'APARTMENT NUMBER', 'ZIP CODE',\n",
            "       'RESIDENTIAL UNITS', 'COMMERCIAL UNITS', 'TOTAL UNITS',\n",
            "       'LAND SQUARE FEET', 'GROSS SQUARE FEET', 'YEAR BUILT',\n",
            "       'TAX CLASS AT TIME OF SALE', 'BUILDING CLASS AT TIME OF SALE',\n",
            "       'SALE PRICE', 'SALE DATE'],\n",
            "      dtype='object')\n",
            "\n",
            "Nombres de las columnas después de la verificación/cambio:\n",
            "Index(['INDEX MIIAD', 'BOROUGH', 'NEIGHBORHOOD', 'BUILDING CLASS CATEGORY',\n",
            "       'TAX CLASS AT PRESENT', 'BLOCK', 'LOT', 'EASE-MENT',\n",
            "       'BUILDING CLASS AT PRESENT', 'ADDRESS', 'APARTMENT NUMBER', 'ZIP CODE',\n",
            "       'RESIDENTIAL UNITS', 'COMMERCIAL UNITS', 'TOTAL UNITS',\n",
            "       'LAND SQUARE FEET', 'GROSS SQUARE FEET', 'YEAR BUILT',\n",
            "       'TAX CLASS AT TIME OF SALE', 'BUILDING CLASS AT TIME OF SALE',\n",
            "       'SALE PRICE', 'SALE DATE'],\n",
            "      dtype='object')\n"
          ]
        }
      ]
    },
    {
      "cell_type": "code",
      "source": [
        "#PRÁCTICA 13\n",
        "\n",
        "# Normalizar los nombres de las columnas\n",
        "df.columns = df.columns.str.lower().str.replace(\" \", \"_\")\n",
        "\n",
        "# Imprimir los nombres de las columnas normalizados\n",
        "print(\"Nombres de las columnas normalizados:\")\n",
        "print(df.columns)"
      ],
      "metadata": {
        "colab": {
          "base_uri": "https://localhost:8080/"
        },
        "id": "DKLO2xO0zxkE",
        "outputId": "1daceccc-8178-4f7b-a245-a3cc37403677"
      },
      "execution_count": 8,
      "outputs": [
        {
          "output_type": "stream",
          "name": "stdout",
          "text": [
            "Nombres de las columnas normalizados:\n",
            "Index(['index_miiad', 'borough', 'neighborhood', 'building_class_category',\n",
            "       'tax_class_at_present', 'block', 'lot', 'ease-ment',\n",
            "       'building_class_at_present', 'address', 'apartment_number', 'zip_code',\n",
            "       'residential_units', 'commercial_units', 'total_units',\n",
            "       'land_square_feet', 'gross_square_feet', 'year_built',\n",
            "       'tax_class_at_time_of_sale', 'building_class_at_time_of_sale',\n",
            "       'sale_price', 'sale_date'],\n",
            "      dtype='object')\n"
          ]
        }
      ]
    },
    {
      "cell_type": "code",
      "source": [
        "#PRÁCTICA 14\n",
        "\n",
        "# Imprimir los tipos de datos actuales\n",
        "print(\"Tipos de datos actuales:\")\n",
        "print(df.dtypes)\n",
        "\n",
        "# Convertir a tipo flotante las columnas necesarias\n",
        "cols_to_convert = [\"sale_price\", \"land_square_feet\", \"gross_square_feet\"]\n",
        "\n",
        "for col in cols_to_convert:\n",
        "    if col in df.columns:  # Verifica que la columna exista\n",
        "        df[col] = pd.to_numeric(df[col], errors='coerce').astype(float)\n",
        "\n",
        "# Imprimir los tipos de datos después del cambio\n",
        "print(\"\\nTipos de datos después de la conversión:\")\n",
        "print(df.dtypes)"
      ],
      "metadata": {
        "colab": {
          "base_uri": "https://localhost:8080/"
        },
        "id": "apetsufx0MH0",
        "outputId": "a55badd6-fa7c-4b9a-df1d-3bfaad115011"
      },
      "execution_count": 9,
      "outputs": [
        {
          "output_type": "stream",
          "name": "stdout",
          "text": [
            "Tipos de datos actuales:\n",
            "index_miiad                        int64\n",
            "borough                            int64\n",
            "neighborhood                      object\n",
            "building_class_category           object\n",
            "tax_class_at_present              object\n",
            "block                              int64\n",
            "lot                                int64\n",
            "ease-ment                         object\n",
            "building_class_at_present         object\n",
            "address                           object\n",
            "apartment_number                  object\n",
            "zip_code                           int64\n",
            "residential_units                  int64\n",
            "commercial_units                   int64\n",
            "total_units                        int64\n",
            "land_square_feet                  object\n",
            "gross_square_feet                 object\n",
            "year_built                         int64\n",
            "tax_class_at_time_of_sale          int64\n",
            "building_class_at_time_of_sale    object\n",
            "sale_price                        object\n",
            "sale_date                         object\n",
            "dtype: object\n",
            "\n",
            "Tipos de datos después de la conversión:\n",
            "index_miiad                         int64\n",
            "borough                             int64\n",
            "neighborhood                       object\n",
            "building_class_category            object\n",
            "tax_class_at_present               object\n",
            "block                               int64\n",
            "lot                                 int64\n",
            "ease-ment                          object\n",
            "building_class_at_present          object\n",
            "address                            object\n",
            "apartment_number                   object\n",
            "zip_code                            int64\n",
            "residential_units                   int64\n",
            "commercial_units                    int64\n",
            "total_units                         int64\n",
            "land_square_feet                  float64\n",
            "gross_square_feet                 float64\n",
            "year_built                          int64\n",
            "tax_class_at_time_of_sale           int64\n",
            "building_class_at_time_of_sale     object\n",
            "sale_price                        float64\n",
            "sale_date                          object\n",
            "dtype: object\n"
          ]
        }
      ]
    },
    {
      "cell_type": "code",
      "source": [
        "#PRÁCTICA 15\n",
        "\n",
        "# Generar diccionario de datos\n",
        "data_dict = {}\n",
        "\n",
        "for col in df.columns:\n",
        "    data_dict[col] = {\n",
        "        \"tipo_dato\": str(df[col].dtype),\n",
        "        \"valores_nulos\": df[col].isnull().sum(),\n",
        "        \"valores_unicos\": df[col].nunique()\n",
        "    }\n",
        "\n",
        "# Imprimir el diccionario de datos\n",
        "print(\"Diccionario de datos del dataframe preprocesado:\")\n",
        "for col, info in data_dict.items():\n",
        "    print(f\"{col}: {info}\")\n"
      ],
      "metadata": {
        "colab": {
          "base_uri": "https://localhost:8080/"
        },
        "id": "Hse9wCcF0ega",
        "outputId": "5cb3de87-24bd-42f7-ca63-bca2b9d04fb4"
      },
      "execution_count": 10,
      "outputs": [
        {
          "output_type": "stream",
          "name": "stdout",
          "text": [
            "Diccionario de datos del dataframe preprocesado:\n",
            "index_miiad: {'tipo_dato': 'int64', 'valores_nulos': np.int64(0), 'valores_unicos': 26736}\n",
            "borough: {'tipo_dato': 'int64', 'valores_nulos': np.int64(0), 'valores_unicos': 5}\n",
            "neighborhood: {'tipo_dato': 'object', 'valores_nulos': np.int64(0), 'valores_unicos': 254}\n",
            "building_class_category: {'tipo_dato': 'object', 'valores_nulos': np.int64(0), 'valores_unicos': 47}\n",
            "tax_class_at_present: {'tipo_dato': 'object', 'valores_nulos': np.int64(0), 'valores_unicos': 11}\n",
            "block: {'tipo_dato': 'int64', 'valores_nulos': np.int64(0), 'valores_unicos': 11566}\n",
            "lot: {'tipo_dato': 'int64', 'valores_nulos': np.int64(0), 'valores_unicos': 2627}\n",
            "ease-ment: {'tipo_dato': 'object', 'valores_nulos': np.int64(0), 'valores_unicos': 1}\n",
            "building_class_at_present: {'tipo_dato': 'object', 'valores_nulos': np.int64(0), 'valores_unicos': 167}\n",
            "address: {'tipo_dato': 'object', 'valores_nulos': np.int64(0), 'valores_unicos': 67563}\n",
            "apartment_number: {'tipo_dato': 'object', 'valores_nulos': np.int64(0), 'valores_unicos': 3989}\n",
            "zip_code: {'tipo_dato': 'int64', 'valores_nulos': np.int64(0), 'valores_unicos': 186}\n",
            "residential_units: {'tipo_dato': 'int64', 'valores_nulos': np.int64(0), 'valores_unicos': 176}\n",
            "commercial_units: {'tipo_dato': 'int64', 'valores_nulos': np.int64(0), 'valores_unicos': 55}\n",
            "total_units: {'tipo_dato': 'int64', 'valores_nulos': np.int64(0), 'valores_unicos': 192}\n",
            "land_square_feet: {'tipo_dato': 'float64', 'valores_nulos': np.int64(26252), 'valores_unicos': 6061}\n",
            "gross_square_feet: {'tipo_dato': 'float64', 'valores_nulos': np.int64(27612), 'valores_unicos': 5690}\n",
            "year_built: {'tipo_dato': 'int64', 'valores_nulos': np.int64(0), 'valores_unicos': 158}\n",
            "tax_class_at_time_of_sale: {'tipo_dato': 'int64', 'valores_nulos': np.int64(0), 'valores_unicos': 4}\n",
            "building_class_at_time_of_sale: {'tipo_dato': 'object', 'valores_nulos': np.int64(0), 'valores_unicos': 166}\n",
            "sale_price: {'tipo_dato': 'float64', 'valores_nulos': np.int64(14561), 'valores_unicos': 10007}\n",
            "sale_date: {'tipo_dato': 'object', 'valores_nulos': np.int64(0), 'valores_unicos': 364}\n"
          ]
        }
      ]
    }
  ]
}