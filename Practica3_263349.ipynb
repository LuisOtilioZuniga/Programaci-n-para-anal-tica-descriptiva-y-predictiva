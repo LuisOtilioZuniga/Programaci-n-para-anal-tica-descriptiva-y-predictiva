{
  "nbformat": 4,
  "nbformat_minor": 0,
  "metadata": {
    "colab": {
      "provenance": [],
      "authorship_tag": "ABX9TyN58KDHnVJqRwQvXwxR+E9I",
      "include_colab_link": true
    },
    "kernelspec": {
      "name": "python3",
      "display_name": "Python 3"
    },
    "language_info": {
      "name": "python"
    }
  },
  "cells": [
    {
      "cell_type": "markdown",
      "metadata": {
        "id": "view-in-github",
        "colab_type": "text"
      },
      "source": [
        "<a href=\"https://colab.research.google.com/github/LuisOtilioZuniga/Programaci-n-para-anal-tica-descriptiva-y-predictiva/blob/main/Practica3_263349.ipynb\" target=\"_parent\"><img src=\"https://colab.research.google.com/assets/colab-badge.svg\" alt=\"Open In Colab\"/></a>"
      ]
    },
    {
      "cell_type": "code",
      "execution_count": 9,
      "metadata": {
        "colab": {
          "base_uri": "https://localhost:8080/"
        },
        "id": "M31Wh_eqk8Yi",
        "outputId": "5bcac806-ecf6-48a6-c161-aad816b236e2"
      },
      "outputs": [
        {
          "output_type": "stream",
          "name": "stdout",
          "text": [
            "Crea un arreglo de 20 elementos con valores enteros aleatorios entre 1 y 100\n",
            "[39 71 88 22 25 52 97 53 36 24 34 35 30 76 54 40 95 96 32 19]\n",
            "\n"
          ]
        }
      ],
      "source": [
        "# importar toda la biblioteca y se usa un alias\n",
        "import numpy as np\n",
        "\n",
        "#Crea un array de 20 elementos con valores aleatorios entre 1 y 100, seguido imprime el array resultante.\n",
        "print(\"Crea un arreglo de 20 elementos con valores enteros aleatorios entre 1 y 100\")\n",
        "array_intrand = np.random.randint(1,101,20)\n",
        "print(array_intrand)\n",
        "print()"
      ]
    },
    {
      "cell_type": "code",
      "source": [
        "#Encontrar el Maximo, mínimo y la media del array. Adicionalmente, sumar 10 a cada elemento del array.\n",
        "print(\"Máximo:\", np.max(array_intrand))\n",
        "print(\"Minimo:\", np.min(array_intrand))\n",
        "print(\"Media:\", np.mean(array_intrand))\n",
        "print(\"Suma:\", array_intrand + 10)"
      ],
      "metadata": {
        "colab": {
          "base_uri": "https://localhost:8080/"
        },
        "id": "wnJl1bJyl4fA",
        "outputId": "e4ce3c86-578e-4ed2-a091-5083400907aa"
      },
      "execution_count": 10,
      "outputs": [
        {
          "output_type": "stream",
          "name": "stdout",
          "text": [
            "Máximo: 97\n",
            "Minimo: 19\n",
            "Media: 50.9\n",
            "Suma: [ 49  81  98  32  35  62 107  63  46  34  44  45  40  86  64  50 105 106\n",
            "  42  29]\n"
          ]
        }
      ]
    }
  ]
}