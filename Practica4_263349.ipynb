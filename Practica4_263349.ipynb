{
  "nbformat": 4,
  "nbformat_minor": 0,
  "metadata": {
    "colab": {
      "provenance": [],
      "authorship_tag": "ABX9TyNk4vkF4XO3at6dNOB/M4ie",
      "include_colab_link": true
    },
    "kernelspec": {
      "name": "python3",
      "display_name": "Python 3"
    },
    "language_info": {
      "name": "python"
    }
  },
  "cells": [
    {
      "cell_type": "markdown",
      "metadata": {
        "id": "view-in-github",
        "colab_type": "text"
      },
      "source": [
        "<a href=\"https://colab.research.google.com/github/LuisOtilioZuniga/Programaci-n-para-anal-tica-descriptiva-y-predictiva/blob/main/Practica4_263349.ipynb\" target=\"_parent\"><img src=\"https://colab.research.google.com/assets/colab-badge.svg\" alt=\"Open In Colab\"/></a>"
      ]
    },
    {
      "cell_type": "code",
      "execution_count": 4,
      "metadata": {
        "colab": {
          "base_uri": "https://localhost:8080/"
        },
        "id": "ZjIZYxeCon9l",
        "outputId": "05596e66-e271-4fca-c105-c7dec8ca4cc1"
      },
      "outputs": [
        {
          "output_type": "stream",
          "name": "stdout",
          "text": [
            "Array 3x3 con valores aleatorios entre 1 y 10\n",
            "[[[10  8  7]\n",
            "  [ 5  6  3]\n",
            "  [ 8  9  9]]\n",
            "\n",
            " [[ 1  3  5]\n",
            "  [ 9  4  7]\n",
            "  [ 1 10  3]]]\n",
            "\n"
          ]
        }
      ],
      "source": [
        "# importar toda la biblioteca y se usa un alias\n",
        "import numpy as np\n",
        "\n",
        "array_random = np.random.randint(1,11,(2,3, 3))  # Array 3x3 con valores aleatorios entre 1 y 10\n",
        "print(\"Array 3x3 con valores aleatorios entre 1 y 10\")\n",
        "print(array_random)\n",
        "print()"
      ]
    },
    {
      "cell_type": "code",
      "source": [
        "#Sumar 1er bloque con el 2ndo bloque\n",
        "suma_bloques = array_random[0] + array_random[1]\n",
        "print(\"Suma de ambos bloques (3x3):\")\n",
        "print(suma_bloques)\n",
        "#Restar 1er bloque con el 2ndo bloque\n",
        "resta_bloques = array_random[0] - array_random[1]\n",
        "print(\"Resta de ambos bloques (3x3):\")\n",
        "print(resta_bloques)\n",
        "#Multiplicar 1er bloque por 2\n",
        "primer_bloque_x2 = array_random[0] * 2\n",
        "print(\"Primer bloque multiplicado por 2:\")\n",
        "print(primer_bloque_x2)\n",
        "#Multiplicar 1er bloque con el 2ndo bloque\n",
        "producto_elemento = array_random[0] * array_random[1]\n",
        "print(\"Multiplicación elemento a elemento (1er bloque × 2do bloque):\")\n",
        "print(producto_elemento)"
      ],
      "metadata": {
        "colab": {
          "base_uri": "https://localhost:8080/"
        },
        "id": "xeDVfKbrq6C2",
        "outputId": "516ec797-7911-46ee-b009-cb3e6b107c2d"
      },
      "execution_count": 9,
      "outputs": [
        {
          "output_type": "stream",
          "name": "stdout",
          "text": [
            "Suma de ambos bloques (3x3):\n",
            "[[11 11 12]\n",
            " [14 10 10]\n",
            " [ 9 19 12]]\n",
            "Resta de ambos bloques (3x3):\n",
            "[[ 9  5  2]\n",
            " [-4  2 -4]\n",
            " [ 7 -1  6]]\n",
            "Primer bloque multiplicado por 2:\n",
            "[[20 16 14]\n",
            " [10 12  6]\n",
            " [16 18 18]]\n",
            "Multiplicación elemento a elemento (1er bloque × 2do bloque):\n",
            "[[10 24 35]\n",
            " [45 24 21]\n",
            " [ 8 90 27]]\n"
          ]
        }
      ]
    }
  ]
}