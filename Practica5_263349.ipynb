{
  "nbformat": 4,
  "nbformat_minor": 0,
  "metadata": {
    "colab": {
      "provenance": [],
      "authorship_tag": "ABX9TyMt4VTa7aH0e8akdqwHJNK8",
      "include_colab_link": true
    },
    "kernelspec": {
      "name": "python3",
      "display_name": "Python 3"
    },
    "language_info": {
      "name": "python"
    }
  },
  "cells": [
    {
      "cell_type": "markdown",
      "metadata": {
        "id": "view-in-github",
        "colab_type": "text"
      },
      "source": [
        "<a href=\"https://colab.research.google.com/github/LuisOtilioZuniga/Programaci-n-para-anal-tica-descriptiva-y-predictiva/blob/main/Practica5_263349.ipynb\" target=\"_parent\"><img src=\"https://colab.research.google.com/assets/colab-badge.svg\" alt=\"Open In Colab\"/></a>"
      ]
    },
    {
      "cell_type": "code",
      "execution_count": 6,
      "metadata": {
        "colab": {
          "base_uri": "https://localhost:8080/"
        },
        "id": "3vowwtgDsrdB",
        "outputId": "d7437cfc-8791-4142-a39a-8ce6bca619a3"
      },
      "outputs": [
        {
          "output_type": "stream",
          "name": "stdout",
          "text": [
            "Crea un arreglo de 20 elementos con valores enteros aleatorios entre 1 y 50\n",
            "[45 14 18 43 23  8 45 36 40 23 17 46 36 48 34]\n",
            "\n"
          ]
        }
      ],
      "source": [
        "# importar toda la biblioteca y se usa un alias\n",
        "import numpy as np\n",
        "\n",
        "#Crea un array de 15 elementos con valores aleatorios entre 1 y 50, seguido imprime el array resultante.\n",
        "print(\"Crea un arreglo de 20 elementos con valores enteros aleatorios entre 1 y 50\")\n",
        "array_intrand = np.random.randint(1,51,15)\n",
        "print(array_intrand)\n",
        "print()"
      ]
    },
    {
      "cell_type": "code",
      "source": [
        "# Comparaciones\n",
        "print(array_intrand)\n",
        "bool_array = array_intrand > 25\n",
        "print(bool_array)\n",
        "count_true = np.sum(bool_array)\n",
        "print(\"Cantidad de valores mayores a 25:\", count_true)"
      ],
      "metadata": {
        "colab": {
          "base_uri": "https://localhost:8080/"
        },
        "id": "-3lxSEabtDwM",
        "outputId": "660a831f-6928-429b-e7de-a62feca82e04"
      },
      "execution_count": 7,
      "outputs": [
        {
          "output_type": "stream",
          "name": "stdout",
          "text": [
            "[45 14 18 43 23  8 45 36 40 23 17 46 36 48 34]\n",
            "[ True False False  True False False  True  True  True False False  True\n",
            "  True  True  True]\n",
            "Cantidad de valores mayores a 25: 9\n"
          ]
        }
      ]
    }
  ]
}