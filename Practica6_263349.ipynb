{
  "nbformat": 4,
  "nbformat_minor": 0,
  "metadata": {
    "colab": {
      "provenance": [],
      "authorship_tag": "ABX9TyPSt0P7D9Kq5wUUJDdakZ5z",
      "include_colab_link": true
    },
    "kernelspec": {
      "name": "python3",
      "display_name": "Python 3"
    },
    "language_info": {
      "name": "python"
    }
  },
  "cells": [
    {
      "cell_type": "markdown",
      "metadata": {
        "id": "view-in-github",
        "colab_type": "text"
      },
      "source": [
        "<a href=\"https://colab.research.google.com/github/LuisOtilioZuniga/Programaci-n-para-anal-tica-descriptiva-y-predictiva/blob/main/Practica6_263349.ipynb\" target=\"_parent\"><img src=\"https://colab.research.google.com/assets/colab-badge.svg\" alt=\"Open In Colab\"/></a>"
      ]
    },
    {
      "cell_type": "code",
      "execution_count": 2,
      "metadata": {
        "colab": {
          "base_uri": "https://localhost:8080/"
        },
        "id": "eUonSoIZKj8M",
        "outputId": "7d6b784f-cc91-4ccd-de25-9d39e9c445ef"
      },
      "outputs": [
        {
          "output_type": "stream",
          "name": "stdout",
          "text": [
            "Mounted at /content/drive\n"
          ]
        }
      ],
      "source": [
        "#Esta parte del código monta tu Google Drive en el entorno Colab\n",
        "#Al ejecutar drive.mount(), te pedirá que autorices a Google Colab para\n",
        "#Acceder a tu Google Drive\n",
        "from google.colab import drive\n",
        "\n",
        "# Importar librerías\n",
        "import pandas as pd\n",
        "import seaborn as sns\n",
        "import matplotlib.pyplot as plt\n",
        "\n",
        "#Después de la autorización, tu Google Drive estará Disponible en el Sistema\n",
        "#de archivos de Colab en la ruta /content/drive/\n",
        "#Si todo ha salido bien deberá aparecer un mensaje de\n",
        "#Mounted at /content/drive\n",
        "drive.mount('/content/drive')\n",
        "# Leer el archivo CSV\n",
        "df = pd.read_csv('/content/drive/MyDrive/Colab Notebooks/Programación para analítica descriptiva y predictiva/Unidad 1/Laboratorios/Titanic-Dataset.csv')\n"
      ]
    },
    {
      "cell_type": "code",
      "source": [
        "# Mostrar las primeras filas para visualizar el contenido\n",
        "print(\"Vista previa del dataset Titanic:\")\n",
        "print(df.head())"
      ],
      "metadata": {
        "colab": {
          "base_uri": "https://localhost:8080/"
        },
        "id": "rmLmlhPGLbSo",
        "outputId": "f2453143-401d-4373-ab7c-5ad5a322685b"
      },
      "execution_count": 3,
      "outputs": [
        {
          "output_type": "stream",
          "name": "stdout",
          "text": [
            "Vista previa del dataset Titanic:\n",
            "   PassengerId  Survived  Pclass  \\\n",
            "0            1         0       3   \n",
            "1            2         1       1   \n",
            "2            3         1       3   \n",
            "3            4         1       1   \n",
            "4            5         0       3   \n",
            "\n",
            "                                                Name     Sex   Age  SibSp  \\\n",
            "0                            Braund, Mr. Owen Harris    male  22.0      1   \n",
            "1  Cumings, Mrs. John Bradley (Florence Briggs Th...  female  38.0      1   \n",
            "2                             Heikkinen, Miss. Laina  female  26.0      0   \n",
            "3       Futrelle, Mrs. Jacques Heath (Lily May Peel)  female  35.0      1   \n",
            "4                           Allen, Mr. William Henry    male  35.0      0   \n",
            "\n",
            "   Parch            Ticket     Fare Cabin Embarked  \n",
            "0      0         A/5 21171   7.2500   NaN        S  \n",
            "1      0          PC 17599  71.2833   C85        C  \n",
            "2      0  STON/O2. 3101282   7.9250   NaN        S  \n",
            "3      0            113803  53.1000  C123        S  \n",
            "4      0            373450   8.0500   NaN        S  \n"
          ]
        }
      ]
    },
    {
      "cell_type": "code",
      "source": [
        "#EJERCICIO 1\n",
        "# Calcular proporción de supervivencia por combinación de Sex y Pclass\n",
        "proportion = df.groupby(['Sex', 'Pclass'])['Survived'].mean()\n",
        "\n",
        "# Redondear a 2 decimales\n",
        "proportion = proportion.round(2)\n",
        "\n",
        "print(\"Proporción de sobrevivientes por Sexo y Clase:\")\n",
        "print(proportion)\n",
        "\n",
        "# Encuentra la combinación con mayor proporción de sobrevivientes\n",
        "max_combo = proportion.idxmax()       # devuelve la tupla (Sex, Pclass)\n",
        "max_value = proportion.max()          # valor de la proporción máxima\n",
        "\n",
        "print(f\"La combinación con mayor Tasa de Supervivencia es: {max_combo} con {max_value:.2f}\")\n",
        "\n",
        "# Encuentra la combinación con menor proporción de sobrevivientes\n",
        "min_combo = proportion.idxmin()       # devuelve la tupla (Sex, Pclass)\n",
        "min_value = proportion.min()          # valor de la proporción minima\n",
        "\n",
        "print(f\"La combinación con menor Tasa de Supervivencia es: {min_combo} con {min_value:.2f}\")"
      ],
      "metadata": {
        "colab": {
          "base_uri": "https://localhost:8080/"
        },
        "id": "BAO1uDEDOBc8",
        "outputId": "40826541-90a0-4b80-edf7-76ab8d08c984"
      },
      "execution_count": 4,
      "outputs": [
        {
          "output_type": "stream",
          "name": "stdout",
          "text": [
            "Proporción de sobrevivientes por Sexo y Clase:\n",
            "Sex     Pclass\n",
            "female  1         0.97\n",
            "        2         0.92\n",
            "        3         0.50\n",
            "male    1         0.37\n",
            "        2         0.16\n",
            "        3         0.14\n",
            "Name: Survived, dtype: float64\n",
            "La combinación con mayor Tasa de Supervivencia es: ('female', np.int64(1)) con 0.97\n",
            "La combinación con menor Tasa de Supervivencia es: ('male', np.int64(3)) con 0.14\n"
          ]
        }
      ]
    },
    {
      "cell_type": "code",
      "source": [
        "#EJERCICIO 2\n",
        "# Crear columna 'FamilySize'\n",
        "df['FamilySize'] = df['SibSp'] + df['Parch']\n",
        "\n",
        "# Ver las primeras filas para comprobar\n",
        "print(df[['SibSp', 'Parch', 'FamilySize']].head())\n",
        "\n",
        "# Contar cuántas familias grandes hay (FamilySize > 3)\n",
        "big_fam = (df['FamilySize'] > 3).sum()\n",
        "\n",
        "print(\"Cantidad de Familias Grandes:\", big_fam)\n",
        "\n",
        "# Filtrar solo las big families (FamilySize > 3)\n",
        "big_families = df[df['FamilySize'] > 3]\n",
        "\n",
        "# Calcular la proporción de supervivencia (Survived = 1)\n",
        "big_fam_survived_proportion = big_families['Survived'].mean().round(2)\n",
        "\n",
        "print(\"Proporción de sobrevivientes en Familias Grandes:\", big_fam_survived_proportion)"
      ],
      "metadata": {
        "colab": {
          "base_uri": "https://localhost:8080/"
        },
        "id": "nZ7m9Zh2SuB8",
        "outputId": "4b10612b-bc1a-4c09-922f-b894da365ce2"
      },
      "execution_count": 8,
      "outputs": [
        {
          "output_type": "stream",
          "name": "stdout",
          "text": [
            "   SibSp  Parch  FamilySize\n",
            "0      1      0           1\n",
            "1      1      0           1\n",
            "2      0      0           0\n",
            "3      1      0           1\n",
            "4      0      0           0\n",
            "Cantidad de Familias Grandes: 62\n",
            "Proporción de sobrevivientes en Familias Grandes: 0.16\n"
          ]
        }
      ]
    },
    {
      "cell_type": "code",
      "source": [
        "# EJERCICIO 3\n",
        "# Función para clasificar la edad\n",
        "def clasificar_edad(edad):\n",
        "    if edad < 18:\n",
        "        return \"Menor de edad\"\n",
        "    else:\n",
        "        return \"Mayor de edad\"\n",
        "\n",
        "# Crear nueva columna 'AgeGroup'\n",
        "df['AgeGroup'] = df['Age'].apply(clasificar_edad)\n",
        "\n",
        "# Ver las primeras filas para comprobar\n",
        "print(df[['Age', 'AgeGroup']].head())\n",
        "\n",
        "# También podemos contar cuántos hay en cada grupo\n",
        "print(\"\\nCantidad de pasajeros por grupo de edad:\")\n",
        "print(df['AgeGroup'].value_counts())"
      ],
      "metadata": {
        "colab": {
          "base_uri": "https://localhost:8080/"
        },
        "id": "yh0pc3e2rQgD",
        "outputId": "ef3ece37-68cb-4ccb-e406-44ccfdec5e66"
      },
      "execution_count": 9,
      "outputs": [
        {
          "output_type": "stream",
          "name": "stdout",
          "text": [
            "    Age       AgeGroup\n",
            "0  22.0  Mayor de edad\n",
            "1  38.0  Mayor de edad\n",
            "2  26.0  Mayor de edad\n",
            "3  35.0  Mayor de edad\n",
            "4  35.0  Mayor de edad\n",
            "\n",
            "Cantidad de pasajeros por grupo de edad:\n",
            "AgeGroup\n",
            "Mayor de edad    778\n",
            "Menor de edad    113\n",
            "Name: count, dtype: int64\n"
          ]
        }
      ]
    },
    {
      "cell_type": "code",
      "source": [
        "# EJERCICIO 4\n",
        "import numpy as np\n",
        "\n",
        "# Calcular promedios con NumPy (ignorando valores nulos)\n",
        "mean_age_numpy = np.nanmean(df['Age'])\n",
        "mean_fare_numpy = np.nanmean(df['Fare'])\n",
        "\n",
        "# Calcular promedios con Pandas\n",
        "mean_age_pandas = df['Age'].mean()\n",
        "mean_fare_pandas = df['Fare'].mean()\n",
        "\n",
        "# Mostrar resultados\n",
        "print(\"Promedio de Age con NumPy:\", round(mean_age_numpy, 2))\n",
        "print(\"Promedio de Age con Pandas:\", round(mean_age_pandas, 2))\n",
        "print(\"Promedio de Fare con NumPy:\", round(mean_fare_numpy, 2))\n",
        "print(\"Promedio de Fare con Pandas:\", round(mean_fare_pandas, 2))\n",
        "\n",
        "# Verificación\n",
        "if (round(mean_age_numpy, 2) == round(mean_age_pandas, 2)) and (round(mean_fare_numpy, 2) == round(mean_fare_pandas, 2)):\n",
        "    print(\"\\n✅ Los resultados de NumPy y Pandas son consistentes.\")\n",
        "else:\n",
        "    print(\"\\n⚠️ Los resultados difieren, revisar cálculos.\")"
      ],
      "metadata": {
        "colab": {
          "base_uri": "https://localhost:8080/"
        },
        "id": "iYq6bBdJrkOg",
        "outputId": "2d0eef4c-1091-4ae8-b772-9deabdb0ad0d"
      },
      "execution_count": 10,
      "outputs": [
        {
          "output_type": "stream",
          "name": "stdout",
          "text": [
            "Promedio de Age con NumPy: 29.7\n",
            "Promedio de Age con Pandas: 29.7\n",
            "Promedio de Fare con NumPy: 32.2\n",
            "Promedio de Fare con Pandas: 32.2\n",
            "\n",
            "✅ Los resultados de NumPy y Pandas son consistentes.\n"
          ]
        }
      ]
    },
    {
      "cell_type": "code",
      "source": [
        "#EJERCICIO 5\n",
        "import numpy as np\n",
        "\n",
        "# Crear 5 intervalos equidistantes para 'Fare'\n",
        "fare_min, fare_max = df['Fare'].min(), df['Fare'].max()\n",
        "intervalos = np.linspace(fare_min, fare_max, 6)  # 6 puntos → 5 intervalos\n",
        "\n",
        "print(\"Intervalos generados para 'Fare':\", intervalos)\n",
        "\n",
        "# Crear nueva columna con los intervalos\n",
        "df['FareInterval'] = pd.cut(df['Fare'], bins=intervalos, include_lowest=True)\n",
        "\n",
        "# Número de pasajeros en cada intervalo\n",
        "pasajeros_por_intervalo = df['FareInterval'].value_counts().sort_index()\n",
        "\n",
        "# Proporción de supervivientes por intervalo\n",
        "supervivencia_por_intervalo = df.groupby('FareInterval')['Survived'].mean().round(2)\n",
        "\n",
        "# Mostrar resultados\n",
        "print(\"\\nNúmero de pasajeros por intervalo:\")\n",
        "print(pasajeros_por_intervalo)\n",
        "\n",
        "print(\"\\nProporción de sobrevivientes por intervalo:\")\n",
        "print(supervivencia_por_intervalo)"
      ],
      "metadata": {
        "colab": {
          "base_uri": "https://localhost:8080/"
        },
        "id": "rVMVsdP-r4rZ",
        "outputId": "503c9266-33a4-4ccd-8393-5ed2adc773d3"
      },
      "execution_count": 12,
      "outputs": [
        {
          "output_type": "stream",
          "name": "stdout",
          "text": [
            "Intervalos generados para 'Fare': [  0.      102.46584 204.93168 307.39752 409.86336 512.3292 ]\n",
            "\n",
            "Número de pasajeros por intervalo:\n",
            "FareInterval\n",
            "(-0.001, 102.466]     838\n",
            "(102.466, 204.932]     33\n",
            "(204.932, 307.398]     17\n",
            "(307.398, 409.863]      0\n",
            "(409.863, 512.329]      3\n",
            "Name: count, dtype: int64\n",
            "\n",
            "Proporción de sobrevivientes por intervalo:\n",
            "FareInterval\n",
            "(-0.001, 102.466]     0.36\n",
            "(102.466, 204.932]    0.76\n",
            "(204.932, 307.398]    0.65\n",
            "(307.398, 409.863]     NaN\n",
            "(409.863, 512.329]    1.00\n",
            "Name: Survived, dtype: float64\n"
          ]
        },
        {
          "output_type": "stream",
          "name": "stderr",
          "text": [
            "/tmp/ipython-input-357046229.py:17: FutureWarning: The default of observed=False is deprecated and will be changed to True in a future version of pandas. Pass observed=False to retain current behavior or observed=True to adopt the future default and silence this warning.\n",
            "  supervivencia_por_intervalo = df.groupby('FareInterval')['Survived'].mean().round(2)\n"
          ]
        }
      ]
    }
  ]
}