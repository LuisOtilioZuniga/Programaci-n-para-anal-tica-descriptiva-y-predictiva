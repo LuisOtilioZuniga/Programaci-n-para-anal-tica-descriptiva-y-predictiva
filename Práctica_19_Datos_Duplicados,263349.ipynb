{
  "nbformat": 4,
  "nbformat_minor": 0,
  "metadata": {
    "colab": {
      "provenance": [],
      "authorship_tag": "ABX9TyNjXPLbWMcnBV7eyEdsFx7E",
      "include_colab_link": true
    },
    "kernelspec": {
      "name": "python3",
      "display_name": "Python 3"
    },
    "language_info": {
      "name": "python"
    }
  },
  "cells": [
    {
      "cell_type": "markdown",
      "metadata": {
        "id": "view-in-github",
        "colab_type": "text"
      },
      "source": [
        "<a href=\"https://colab.research.google.com/github/LuisOtilioZuniga/Programaci-n-para-anal-tica-descriptiva-y-predictiva/blob/main/Pr%C3%A1ctica_19_Datos_Duplicados%2C263349.ipynb\" target=\"_parent\"><img src=\"https://colab.research.google.com/assets/colab-badge.svg\" alt=\"Open In Colab\"/></a>"
      ]
    },
    {
      "cell_type": "markdown",
      "source": [
        "**NOMBRE:** Luis Otilio Zúñiga Próspero  **MATRICULA:** 263349\n",
        "# **Práctica #19: Datos Duplicados**\n",
        "\n",
        "El objetivo de esta actividad es que los estudiantes pongan en práctica lo visto en el vídeo y en el notebook que se proporciona\n"
      ],
      "metadata": {
        "id": "ipDht6QhNJCV"
      }
    },
    {
      "cell_type": "markdown",
      "source": [
        "# **Ejercicio 01 Duplicidad Parcial Una columna: Contar y Filtrar los registros duplicados en Duration**\n",
        "\n",
        "1. Carga el conjunto de datos dirty.csv y verifica que su carga sea correcta.\n",
        "2. Cuenta la cantidad de registros duplicados utilizando solo la información de columna Duration e imprime\n",
        "3. Utiliza value_counts() e imprime la cantidad de registros que hay por cada valor único.\n",
        "4. Filtra los datos y obten los registros sin duplicados"
      ],
      "metadata": {
        "id": "got77KBdNqWX"
      }
    },
    {
      "cell_type": "code",
      "execution_count": 25,
      "metadata": {
        "colab": {
          "base_uri": "https://localhost:8080/"
        },
        "id": "CpYv91AdNAHp",
        "outputId": "fd08f879-38a0-4723-9451-4f98ff52a600"
      },
      "outputs": [
        {
          "output_type": "stream",
          "name": "stdout",
          "text": [
            "Drive already mounted at /content/drive; to attempt to forcibly remount, call drive.mount(\"/content/drive\", force_remount=True).\n",
            "La cantidad de registros duplicados en la columna \"Duration\" son: 28\n",
            "Se imprimen los valores unicos de la columna \"Duration\" y la cantidad de registros que hay por cada valor unico: Duration\n",
            "60     24\n",
            "45      6\n",
            "450     1\n",
            "30      1\n",
            "Name: count, dtype: int64\n",
            "Los unicos registros que no tienen duplicados son:\n",
            "   Duration          Date  Pulse  Maxpulse  Calories\n",
            "7       450  '2020/12/08'    104       134     253.3\n",
            "8        30  '2020/12/09'    109       133     195.1\n"
          ]
        }
      ],
      "source": [
        "# PUNTO 1: Carga el conjunto de datos dirty.csv y verifica que su carga sea correcta.\n",
        "from google.colab import drive\n",
        "drive.mount('/content/drive')\n",
        "\n",
        "#Bibliotecas necesarias\n",
        "import pandas as pd\n",
        "\n",
        "#Leemos el CSV dirtydata.csv\n",
        "df = pd.read_csv('drive/MyDrive/Colab Notebooks/Programación para analítica descriptiva y predictiva/SESION 14 - ASINCRONA/dirtydata.csv')\n",
        "\n",
        "# PUNTO 2: Cuenta la cantidad de registros duplicados utilizando solo la información de columna Duration e imprime\n",
        "print(f'La cantidad de registros duplicados en la columna \"Duration\" son: {df.duplicated(subset=['Duration']).sum()}')\n",
        "\n",
        "# PUNTO 3: Utiliza value_counts() e imprime la cantidad de registros que hay por cada valor único.\n",
        "print(f'Se imprimen los valores unicos de la columna \"Duration\" y la cantidad de registros que hay por cada valor unico: {df['Duration'].value_counts()}')\n",
        "\n",
        "# PUNTO 4: Filtra los datos y obten los registros sin duplicados\n",
        "# Se crea un Dataframe que guarde unicamente los registros que no esten duplicados.\n",
        "df_sin_duplicados=df.drop_duplicates(subset=['Duration'],keep=False)\n",
        "# Se imprimen los registros sin duplicados.\n",
        "print(f'Los unicos registros que no tienen duplicados son:\\n{df_sin_duplicados}')\n"
      ]
    },
    {
      "cell_type": "markdown",
      "source": [
        "# **Ejercicio 02 Duplicidad Parcial Dos columnas: Contar y Filtrar los registros duplicados en Pulse y MaxPulse**\n",
        "\n",
        "1. Carga el conjunto de datos dirty.csv y verifica que su carga sea correcta.\n",
        "2. Cuenta la cantidad de registros duplicados utilizando la información de las columnas Pulse y Maxpulse\n",
        "3. Utiliza value_counts() e imprime la cantidad de registros que hay por cada valor único.\n",
        "4. Filtra los datos y obten los registros cuando keep = 'last'"
      ],
      "metadata": {
        "id": "IdXsX8nfUWCZ"
      }
    },
    {
      "cell_type": "code",
      "source": [
        "# PUNTO 1: Carga el conjunto de datos dirty.csv y verifica que su carga sea correcta.\n",
        "from google.colab import drive\n",
        "drive.mount('/content/drive')\n",
        "\n",
        "#Bibliotecas necesarias\n",
        "import pandas as pd\n",
        "\n",
        "#Leemos el CSV dirtydata.csv\n",
        "df = pd.read_csv('drive/MyDrive/Colab Notebooks/Programación para analítica descriptiva y predictiva/SESION 14 - ASINCRONA/dirtydata.csv')\n",
        "\n",
        "# PUNTO 2: Cuenta la cantidad de registros duplicados utilizando la información de las columnas Pulse y Maxpulse\n",
        "print(f'La cantidad de registros duplicados en las columnas \"Pulse\" y \"Maxpulse\" son: {df.duplicated(subset=[\"Pulse\",\"Maxpulse\"]).sum()}')\n",
        "\n",
        "# PUNTO 3: Utiliza value_counts() e imprime la cantidad de registros que hay por cada valor único.\n",
        "print(f'Se imprimen los valores unicos de las columnas \"Pulse\" y \"Maxpulse\" y la cantidad de registros que hay por cada valor unico:\\n{df[['Pulse','Maxpulse']].value_counts()}')\n",
        "\n",
        "#PUNTO 4: Filtra los datos y obten los registros cuando keep = 'last'\n",
        "# Se crea un Dataframe que guarde unicamente los registros que no esten duplicados.\n",
        "df_sin_duplicados = df.drop_duplicates(subset=['Pulse', 'Maxpulse'], keep='last')\n",
        "# Se imprimen los registros sin duplicados.\n",
        "print(f'Los unicos registros que no tienen duplicados son:\\n{df_sin_duplicados}')\n"
      ],
      "metadata": {
        "colab": {
          "base_uri": "https://localhost:8080/"
        },
        "id": "8iNS0NyxUxHd",
        "outputId": "af161883-4247-4690-fd1c-d260da47bc47"
      },
      "execution_count": 26,
      "outputs": [
        {
          "output_type": "stream",
          "name": "stdout",
          "text": [
            "Drive already mounted at /content/drive; to attempt to forcibly remount, call drive.mount(\"/content/drive\", force_remount=True).\n",
            "La cantidad de registros duplicados en las columnas \"Pulse\" y \"Maxpulse\" son: 3\n",
            "Se imprimen los valores unicos de las columnas \"Pulse\" y \"Maxpulse\" y la cantidad de registros que hay por cada valor unico:\n",
            "Pulse  Maxpulse\n",
            "100    120         4\n",
            "92     115         1\n",
            "       118         1\n",
            "97     125         1\n",
            "90     112         1\n",
            "98     120         1\n",
            "       123         1\n",
            "       124         1\n",
            "100    119         1\n",
            "       132         1\n",
            "102    126         1\n",
            "       127         1\n",
            "       129         1\n",
            "103    123         1\n",
            "       132         1\n",
            "       135         1\n",
            "       147         1\n",
            "104    132         1\n",
            "       134         1\n",
            "105    132         1\n",
            "106    128         1\n",
            "108    131         1\n",
            "109    133         1\n",
            "       175         1\n",
            "110    130         1\n",
            "       136         1\n",
            "117    145         1\n",
            "       148         1\n",
            "130    101         1\n",
            "Name: count, dtype: int64\n",
            "Los unicos registros que no tienen duplicados son:\n",
            "    Duration          Date  Pulse  Maxpulse  Calories\n",
            "0         60  '2020/12/01'    110       130     409.1\n",
            "1         60  '2020/12/02'    117       145     479.0\n",
            "2         60  '2020/12/03'    103       135     340.0\n",
            "3         45  '2020/12/04'    109       175     282.4\n",
            "4         45  '2020/12/05'    117       148     406.0\n",
            "5         60  '2020/12/06'    102       127     300.0\n",
            "6         60  '2020/12/07'    110       136     374.0\n",
            "7        450  '2020/12/08'    104       134     253.3\n",
            "8         30  '2020/12/09'    109       133     195.1\n",
            "9         60  '2020/12/10'     98       124     269.0\n",
            "10        60  '2020/12/11'    103       147     329.3\n",
            "13        60  '2020/12/13'    106       128     345.3\n",
            "14        60  '2020/12/14'    104       132     379.3\n",
            "15        60  '2020/12/15'     98       123     275.0\n",
            "16        60  '2020/12/16'     98       120     215.2\n",
            "18        45  '2020/12/18'     90       112       NaN\n",
            "19        60  '2020/12/19'    103       123     323.0\n",
            "20        45  '2020/12/20'     97       125     243.0\n",
            "21        60  '2020/12/21'    108       131     364.2\n",
            "22        45           NaN    100       119     282.0\n",
            "23        60  '2020/12/23'    130       101     300.0\n",
            "24        45  '2020/12/24'    105       132     246.0\n",
            "25        60  '2020/12/25'    102       126     334.5\n",
            "26        60      20201226    100       120     250.0\n",
            "27        60  '2020/12/27'     92       118     241.0\n",
            "28        60  '2020/12/28'    103       132       NaN\n",
            "29        60  '2020/12/29'    100       132     280.0\n",
            "30        60  '2020/12/30'    102       129     380.3\n",
            "31        60  '2020/12/31'     92       115     243.0\n"
          ]
        }
      ]
    },
    {
      "cell_type": "markdown",
      "source": [
        "# **Ejercicio 03 Duplicidad Total o Exacta: Contar y Filtrar los registros duplicados**\n",
        "\n",
        "1. Carga el conjunto de datos dirty.csv y verifica que su carga sea correcta.\n",
        "2. Cuenta la cantidad de registros duplicados exactos (todas las columnas)\n",
        "3. Utiliza sum() e imprime la cantidad de registros con duplicidad exacta\n",
        "4. Filtra los datos y obten los registros cuando keep = 'last'"
      ],
      "metadata": {
        "id": "tQgOekg2Xm7y"
      }
    },
    {
      "cell_type": "code",
      "source": [
        "# PUNTO 1: Carga el conjunto de datos dirty.csv y verifica que su carga sea correcta.\n",
        "from google.colab import drive\n",
        "drive.mount('/content/drive')\n",
        "\n",
        "#Leemos el CSV dirtydata.csv\n",
        "df = pd.read_csv('drive/MyDrive/Colab Notebooks/Programación para analítica descriptiva y predictiva/SESION 14 - ASINCRONA/dirtydata.csv')\n",
        "\n",
        "# PUNTO 2: Cuenta la cantidad de registros duplicados exactos (todas las columnas)\n",
        "print(f'La cantidad de registros duplicados en todas las columnas son: {df.duplicated(keep=False).sum()}')\n",
        "\n",
        "# PUNTO 3: Utiliza sum() e imprime la cantidad de registros con duplicidad exacta\n",
        "# Se genera un Dataframe donde se almacenaran los registros con duplicidad exacta\n",
        "df_duplicidad_exacta = df.duplicated(keep=False)\n",
        "# Se imprime los registros con duplicidad exacta.\n",
        "print(f'Registros con duplicidad exacta es: {df_duplicidad_exacta.sum()}')\n",
        "\n",
        "# PUNTO 4: Filtra los datos y obten los registros cuando keep = 'last'\n",
        "# Se crea un Dataframe que guarde unicamente los registros que no esten duplicados, manteniendo el último registro duplicado.\n",
        "df_sin_duplicados_last = df.drop_duplicates(keep='last')\n",
        "# Se imprimen los registros sin duplicados (manteniendo el último).\n",
        "print(f'Los registros sin duplicados (manteniendo el último) son:\\n{df_sin_duplicados_last}')"
      ],
      "metadata": {
        "colab": {
          "base_uri": "https://localhost:8080/"
        },
        "id": "5v0IQvsDYB7b",
        "outputId": "e50fab21-a9a4-4b39-d14d-acbc15556831"
      },
      "execution_count": 34,
      "outputs": [
        {
          "output_type": "stream",
          "name": "stdout",
          "text": [
            "Drive already mounted at /content/drive; to attempt to forcibly remount, call drive.mount(\"/content/drive\", force_remount=True).\n",
            "La cantidad de registros duplicados en todas las columnas son: 2\n",
            "Registros con duplicidad exacta es: 2\n",
            "Los registros sin duplicados (manteniendo el último) son:\n",
            "    Duration          Date  Pulse  Maxpulse  Calories\n",
            "0         60  '2020/12/01'    110       130     409.1\n",
            "1         60  '2020/12/02'    117       145     479.0\n",
            "2         60  '2020/12/03'    103       135     340.0\n",
            "3         45  '2020/12/04'    109       175     282.4\n",
            "4         45  '2020/12/05'    117       148     406.0\n",
            "5         60  '2020/12/06'    102       127     300.0\n",
            "6         60  '2020/12/07'    110       136     374.0\n",
            "7        450  '2020/12/08'    104       134     253.3\n",
            "8         30  '2020/12/09'    109       133     195.1\n",
            "9         60  '2020/12/10'     98       124     269.0\n",
            "10        60  '2020/12/11'    103       147     329.3\n",
            "12        60  '2020/12/12'    100       120     250.7\n",
            "13        60  '2020/12/13'    106       128     345.3\n",
            "14        60  '2020/12/14'    104       132     379.3\n",
            "15        60  '2020/12/15'     98       123     275.0\n",
            "16        60  '2020/12/16'     98       120     215.2\n",
            "17        60  '2020/12/17'    100       120     300.0\n",
            "18        45  '2020/12/18'     90       112       NaN\n",
            "19        60  '2020/12/19'    103       123     323.0\n",
            "20        45  '2020/12/20'     97       125     243.0\n",
            "21        60  '2020/12/21'    108       131     364.2\n",
            "22        45           NaN    100       119     282.0\n",
            "23        60  '2020/12/23'    130       101     300.0\n",
            "24        45  '2020/12/24'    105       132     246.0\n",
            "25        60  '2020/12/25'    102       126     334.5\n",
            "26        60      20201226    100       120     250.0\n",
            "27        60  '2020/12/27'     92       118     241.0\n",
            "28        60  '2020/12/28'    103       132       NaN\n",
            "29        60  '2020/12/29'    100       132     280.0\n",
            "30        60  '2020/12/30'    102       129     380.3\n",
            "31        60  '2020/12/31'     92       115     243.0\n"
          ]
        }
      ]
    },
    {
      "cell_type": "markdown",
      "source": [
        "# **Ejercicio 04: Cálculo de la media con duplicados y sin duplicados**\n",
        "\n",
        "1. Carga el conjunto de datos dirty.csv y verifica que su carga sea correcta.\n",
        "2. Calcula e imprime la media de las columnas Pulse y MaxPulse\n",
        "3. Identifica los valores duplicados en las columnas Pulse y MaxPulse (Duplicidad Parcial) y elimina los registro repetidos. Quédate con las últimas ocurrencias\n",
        "4. Utiliza el conjunto anterior sin datos duplicados (recuerda que solo quedaron las últimas ocurrencias de los datos) y calcula la media de las columnas Pulse y MaxPulse"
      ],
      "metadata": {
        "id": "TfDp3qpJg4UH"
      }
    },
    {
      "cell_type": "code",
      "source": [
        "# PUNTO 1: Carga el conjunto de datos dirty.csv y verifica que su carga sea correcta.\n",
        "from google.colab import drive\n",
        "drive.mount('/content/drive')\n",
        "\n",
        "#Leemos el CSV dirtydata.csv\n",
        "df = pd.read_csv('drive/MyDrive/Colab Notebooks/Programación para analítica descriptiva y predictiva/SESION 14 - ASINCRONA/dirtydata.csv')\n",
        "\n",
        "# PUNTO 2: Calcula e imprime la media de las columnas Pulse y Maxpulse\n",
        "media_pulse = df['Pulse'].mean()\n",
        "media_maxpulse = df['Maxpulse'].mean()\n",
        "print(f'La media de la columna \"Pulse\" es: {media_pulse}')\n",
        "print(f'La media de la columna \"Maxpulse\" es: {media_maxpulse}')\n",
        "\n",
        "# PUNTO 3: Identifica los valores duplicados en las columnas Pulse y MaxPulse (Duplicidad Parcial) y elimina los registro repetidos. Quédate con las últimas ocurrencias\n",
        "df_sin_duplicados = df.drop_duplicates(subset=['Pulse', 'Maxpulse'], keep='last')\n",
        "\n",
        "# PUNTO 4: Utiliza el conjunto anterior sin datos duplicados (recuerda que solo quedaron las últimas ocurrencias de los datos) y calcula la media de las columnas Pulse y MaxPulse\n",
        "media_pulse_sin_duplicados = df_sin_duplicados['Pulse'].mean()\n",
        "media_maxpulse_sin_duplicados = df_sin_duplicados['Maxpulse'].mean()\n",
        "print(f'La media de la columna \"Pulse\" sin duplicados es: {media_pulse_sin_duplicados}')\n",
        "print(f'La media de la columna \"MaxPulse\" sin duplicados es: {media_maxpulse_sin_duplicados}')"
      ],
      "metadata": {
        "colab": {
          "base_uri": "https://localhost:8080/"
        },
        "id": "3T_uZ4JQhFr_",
        "outputId": "9e32dcc5-e481-484f-fad1-8092528da179"
      },
      "execution_count": 36,
      "outputs": [
        {
          "output_type": "stream",
          "name": "stdout",
          "text": [
            "Drive already mounted at /content/drive; to attempt to forcibly remount, call drive.mount(\"/content/drive\", force_remount=True).\n",
            "La media de la columna \"Pulse\" es: 103.5\n",
            "La media de la columna \"Maxpulse\" es: 128.5\n",
            "La media de la columna \"Pulse\" sin duplicados es: 103.86206896551724\n",
            "La media de la columna \"MaxPulse\" sin duplicados es: 129.3793103448276\n"
          ]
        }
      ]
    }
  ]
}